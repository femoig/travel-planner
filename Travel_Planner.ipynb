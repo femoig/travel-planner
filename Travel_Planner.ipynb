{
  "nbformat": 4,
  "nbformat_minor": 0,
  "metadata": {
    "colab": {
      "provenance": [],
      "authorship_tag": "ABX9TyOV4LpgVoIdKY9hOjaWPynR",
      "include_colab_link": true
    },
    "kernelspec": {
      "name": "python3",
      "display_name": "Python 3"
    },
    "language_info": {
      "name": "python"
    }
  },
  "cells": [
    {
      "cell_type": "markdown",
      "metadata": {
        "id": "view-in-github",
        "colab_type": "text"
      },
      "source": [
        "<a href=\"https://colab.research.google.com/github/femoig/travel-planner/blob/main/Travel_Planner.ipynb\" target=\"_parent\"><img src=\"https://colab.research.google.com/assets/colab-badge.svg\" alt=\"Open In Colab\"/></a>"
      ]
    },
    {
      "cell_type": "code",
      "execution_count": 6,
      "metadata": {
        "id": "l5loNtEDBik3"
      },
      "outputs": [],
      "source": [
        "\"\"\"\n",
        "At the command line, only need to run once to install the package via pip:\n",
        "\n",
        "$ pip install google-generativeai\n",
        "\"\"\"\n",
        "\n",
        "import google.generativeai as genai\n",
        "from google.colab import userdata\n",
        "\n",
        "GOOGLE_API_KEY=userdata.get('GOOGLE_API_KEY')\n",
        "genai.configure(api_key=GOOGLE_API_KEY)\n",
        "\n",
        "# Set up the model\n",
        "generation_config = {\n",
        "  \"temperature\": 1,\n",
        "  \"top_p\": 0.95,\n",
        "  \"top_k\": 0,\n",
        "  \"max_output_tokens\": 8192,\n",
        "}\n",
        "\n",
        "safety_settings = [\n",
        "  {\n",
        "    \"category\": \"HARM_CATEGORY_HARASSMENT\",\n",
        "    \"threshold\": \"BLOCK_MEDIUM_AND_ABOVE\"\n",
        "  },\n",
        "  {\n",
        "    \"category\": \"HARM_CATEGORY_HATE_SPEECH\",\n",
        "    \"threshold\": \"BLOCK_MEDIUM_AND_ABOVE\"\n",
        "  },\n",
        "  {\n",
        "    \"category\": \"HARM_CATEGORY_SEXUALLY_EXPLICIT\",\n",
        "    \"threshold\": \"BLOCK_MEDIUM_AND_ABOVE\"\n",
        "  },\n",
        "  {\n",
        "    \"category\": \"HARM_CATEGORY_DANGEROUS_CONTENT\",\n",
        "    \"threshold\": \"BLOCK_MEDIUM_AND_ABOVE\"\n",
        "  },\n",
        "]\n",
        "\n",
        "model = genai.GenerativeModel(model_name=\"gemini-1.5-pro-latest\",\n",
        "                              generation_config=generation_config,\n",
        "                              safety_settings=safety_settings)\n",
        "\n"
      ]
    },
    {
      "cell_type": "markdown",
      "source": [
        "# Busque inspiração para suas férias ideal ✈✈"
      ],
      "metadata": {
        "id": "_NUnLFLxJnzy"
      }
    },
    {
      "cell_type": "markdown",
      "source": [],
      "metadata": {
        "id": "lvJgoj4uJdRp"
      }
    },
    {
      "cell_type": "code",
      "source": [
        "# Você está procurando viagens Nacionais ou Internacionais?\n",
        "territorio = 'internacional' # @param [\"nacional\", \"internacional\"]\n",
        "\n",
        "# Qual clima você prefere? Calor ou Frio?\n",
        "clima = 'quente' # @param [\"quente\", \"frio\"]\n",
        "\n",
        "# Digite um breve resumo de algumas características ou atividades que gostaria que essa cidade tivesse.\n",
        "caracteristicas = \"praia, boa gastronomia, e passeios de barco\" # @param {type:\"raw\"}"
      ],
      "metadata": {
        "id": "em4AVKdZE__a"
      },
      "execution_count": 7,
      "outputs": []
    },
    {
      "cell_type": "code",
      "source": [
        "convo = model.start_chat(history=[\n",
        "  {\n",
        "    \"role\": \"user\",\n",
        "    \"parts\": [\"Você é um consultor de viagens experiente. Liste cidades situadas no território\" + territorio + \", que você sejam populares para tirar férias, que tenha um clima\" + clima + \", com as seguintes características \" + caracteristicas + \". Retorne uma breve descrição\"]\n",
        "  },\n",
        "])\n",
        "\n",
        "convo.send_message(\"YOUR_USER_INPUT\")\n",
        "print(convo.last.text)"
      ],
      "metadata": {
        "colab": {
          "base_uri": "https://localhost:8080/",
          "height": 468
        },
        "id": "J_RYVmAaEmsJ",
        "outputId": "a5375dbe-9807-48bc-c662-0ac371e41d37"
      },
      "execution_count": 8,
      "outputs": [
        {
          "output_type": "stream",
          "name": "stdout",
          "text": [
            "## Destinos de férias com praia, gastronomia e passeios de barco:\n",
            "\n",
            "**Caribe:**\n",
            "\n",
            "* **Cancún, México:**  Praias de areia branca e mar azul-turquesa, vida noturna agitada, sítios arqueológicos maias e passeios de barco a Isla Mujeres. \n",
            "* **Punta Cana, República Dominicana:** Resorts de luxo, campos de golfe, mergulho em corais e passeios de barco até a Ilha Saona.\n",
            "* **San Juan, Porto Rico:** Cidade histórica com arquitetura colonial espanhola, praias vibrantes, floresta tropical El Yunque e passeios de barco para ilhas vizinhas.\n",
            "\n",
            "**Mediterrâneo:**\n",
            "\n",
            "* **Barcelona, Espanha:** Arquitetura de Gaudí, praias urbanas, deliciosa culinária catalã e passeios de barco ao longo da costa.\n",
            "* **Nice, França:** Charmosa cidade na Riviera Francesa, praias de seixos, restaurantes sofisticados e passeios de barco para explorar a Côte d'Azur.\n",
            "* **Ilhas Gregas (Mykonos, Santorini):** Paisagens deslumbrantes, praias vulcânicas, vilas pitorescas e passeios de barco para ilhas próximas e enseadas escondidas.\n",
            "\n",
            "**Sudeste Asiático:**\n",
            "\n",
            "* **Phuket, Tailândia:** Praias paradisíacas, vida noturna vibrante, templos budistas e passeios de barco pelas ilhas Phi Phi.\n",
            "* **Bali, Indonésia:** Cultura rica, templos antigos, terraços de arroz, praias de surf e passeios de barco até Nusa Penida ou Nusa Lembongan.\n",
            "\n",
            "**Outros destinos:**\n",
            "\n",
            "* **Miami, EUA:** Praias famosas, Art Deco District, cultura cubana e passeios de barco pelos canais e baías.\n",
            "* **Dubai, Emirados Árabes Unidos:** Luxo exuberante, arquitetura moderna, praias artificiais e passeios de barco ao redor da Palm Jumeirah.\n",
            "\n",
            "**Lembre-se de considerar a época do ano ao planejar sua viagem, pois o clima pode variar em cada destino.**\n",
            "\n"
          ]
        }
      ]
    },
    {
      "cell_type": "markdown",
      "source": [
        "# Escolha uma cidade para obter uma sugestão de roteiro"
      ],
      "metadata": {
        "id": "56NJSB6AOmjC"
      }
    },
    {
      "cell_type": "code",
      "source": [
        "# Escolha uma cidade para obter uma sugestão de roteiro\n",
        "cidade = \"Barcelona\" # @param {type:\"raw\"}"
      ],
      "metadata": {
        "id": "tCC7IknyOL2v"
      },
      "execution_count": 9,
      "outputs": []
    },
    {
      "cell_type": "code",
      "source": [
        "convo = model.start_chat(history=[\n",
        "  {\n",
        "    \"role\": \"user\",\n",
        "    \"parts\": [\"Monte um roteiro diário de 5 dias para a cidade de \" + cidade + \"sugerindo os principais pontos turísticos com uma breve descrição. No final, traga uma sugestão da melhor época do ano para visitar, e uma estimativa de custo para da passagem aérea e hospedagem considerando 1 passageiro adulto.\"]\n",
        "  },\n",
        "])\n",
        "\n",
        "convo.send_message(\"YOUR_USER_INPUT\")\n",
        "print(convo.last.text)"
      ],
      "metadata": {
        "colab": {
          "base_uri": "https://localhost:8080/",
          "height": 887
        },
        "id": "2l13zkkyOpaY",
        "outputId": "1df65c73-e42b-42ec-9565-8f161ada9d1b"
      },
      "execution_count": 10,
      "outputs": [
        {
          "output_type": "stream",
          "name": "stdout",
          "text": [
            "## Roteiro de 5 dias em Barcelona:\n",
            "\n",
            "**Dia 1:**\n",
            "\n",
            "* **Manhã:** Comece o dia explorando as obras-primas de Gaudí. Visite a **Sagrada Família**, maravilhe-se com sua arquitetura única e suba em uma das torres para vistas panorâmicas da cidade. \n",
            "* **Tarde:** Caminhe pelo encantador **Parque Güell**, outro exemplo icônico do trabalho de Gaudí, com seus mosaicos coloridos, arquitetura orgânica e vistas deslumbrantes da cidade.\n",
            "* **Noite:**  Experimente tapas em um dos muitos bares no bairro de **Barceloneta**, famoso por suas praias e restaurantes de frutos do mar. \n",
            "\n",
            "**Dia 2:**\n",
            "\n",
            "* **Manhã:** Mergulhe na história da cidade com uma visita ao **Bairro Gótico**, um labirinto de ruas estreitas, praças charmosas e edifícios medievais. Visite a Catedral de Barcelona e o Museu de História da Cidade.\n",
            "* **Tarde:** Passeie pela famosa **La Rambla**, uma avenida arborizada repleta de artistas de rua, floristas e cafés. Explore o mercado La Boqueria, com suas barracas coloridas e sabores locais.\n",
            "* **Noite:** Desfrute de um espetáculo de flamenco no **Tablao Cordobes** ou no **Palacio del Flamenco** e vivencie a paixão desta dança tradicional espanhola.\n",
            "\n",
            "**Dia 3:**\n",
            "\n",
            "* **Manhã:** Explore a **Montjuïc**, uma colina com vistas panorâmicas da cidade. Visite o **Museu Nacional de Arte da Catalunha (MNAC)**, o **Castelo de Montjuïc** e o **Poble Espanyol**, uma vila que reproduz a arquitetura de diferentes regiões da Espanha.\n",
            "* **Tarde:** Relaxe nos **Jardins de Joan Brossa** ou pegue o teleférico até a praia de Barceloneta para um mergulho refrescante no Mediterrâneo.\n",
            "* **Noite:** Jante em um dos restaurantes com estrelas Michelin da cidade, como o **Tickets** ou o **Disfrutar**, para uma experiência gastronômica inesquecível.\n",
            "\n",
            "**Dia 4:**\n",
            "\n",
            "* **Manhã:** Dedique o dia ao futebol visitando o **Camp Nou**, o estádio do FC Barcelona, e explore o museu do clube para conhecer sua história e conquistas.\n",
            "* **Tarde:**  Faça compras na **Passeig de Gràcia**, uma avenida elegante com lojas de grife e edifícios modernistas, como a Casa Batlló e a Casa Milà (La Pedrera). \n",
            "* **Noite:** Assista a um concerto no **Palau de la Música Catalana**, uma sala de concertos modernista com uma arquitetura deslumbrante.\n",
            "\n",
            "**Dia 5:**\n",
            "\n",
            "* **Manhã:** Visite o **Parque da Ciutadella**, um oásis verde no coração da cidade com um lago, um zoológico e o **Arco do Triunfo**.\n",
            "* **Tarde:** Explore o bairro boêmio de **El Born**, com suas lojas vintage, galerias de arte e cafés da moda.\n",
            "* **Noite:** Desfrute de um último jantar de tapas em um bar local e celebre sua viagem a Barcelona.\n",
            "\n",
            "\n",
            "## Melhor época para visitar:\n",
            "\n",
            "A melhor época para visitar Barcelona é na primavera (abril a junho) ou no outono (setembro a novembro), quando o clima é agradável, com temperaturas amenas e menos multidões. O verão (julho e agosto) pode ser muito quente e lotado, enquanto o inverno (dezembro a março) é mais frio e úmido.\n",
            "\n",
            "\n",
            "## Estimativa de custo:\n",
            "\n",
            "* **Passagem aérea:** O preço da passagem aérea pode variar significativamente dependendo da época do ano e da origem do voo. Em geral, você pode encontrar passagens de ida e volta a partir de R$ 3.000,00.\n",
            "* **Hospedagem:** Barcelona oferece uma ampla variedade de opções de hospedagem, desde albergues econômicos até hotéis de luxo. Você pode encontrar quartos de hotel a partir de R$ 200,00 por noite. \n",
            "\n",
            "\n",
            "**Lembre-se de que estes são apenas valores estimados e os preços reais podem variar.**\n",
            "\n",
            "\n",
            "**Espero que este roteiro ajude você a planejar uma viagem inesquecível a Barcelona!** \n",
            "\n"
          ]
        }
      ]
    }
  ]
}