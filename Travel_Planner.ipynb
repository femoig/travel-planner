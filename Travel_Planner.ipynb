{
  "nbformat": 4,
  "nbformat_minor": 0,
  "metadata": {
    "colab": {
      "provenance": [],
      "authorship_tag": "ABX9TyPiJclyvbn1YPEPKWUrxYRG",
      "include_colab_link": true
    },
    "kernelspec": {
      "name": "python3",
      "display_name": "Python 3"
    },
    "language_info": {
      "name": "python"
    }
  },
  "cells": [
    {
      "cell_type": "markdown",
      "metadata": {
        "id": "view-in-github",
        "colab_type": "text"
      },
      "source": [
        "<a href=\"https://colab.research.google.com/github/femoig/travel-planner/blob/main/Travel_Planner.ipynb\" target=\"_parent\"><img src=\"https://colab.research.google.com/assets/colab-badge.svg\" alt=\"Open In Colab\"/></a>"
      ]
    },
    {
      "cell_type": "code",
      "execution_count": 31,
      "metadata": {
        "id": "l5loNtEDBik3"
      },
      "outputs": [],
      "source": [
        "\"\"\"\n",
        "At the command line, only need to run once to install the package via pip:\n",
        "\n",
        "$ pip install google-generativeai\n",
        "\"\"\"\n",
        "\n",
        "import google.generativeai as genai\n",
        "from google.colab import userdata\n",
        "\n",
        "GOOGLE_API_KEY=userdata.get('GOOGLE_API_KEY')\n",
        "genai.configure(api_key=GOOGLE_API_KEY)\n",
        "\n",
        "# Set up the model\n",
        "generation_config = {\n",
        "  \"temperature\": 1,\n",
        "  \"top_p\": 0.95,\n",
        "  \"top_k\": 0,\n",
        "  \"max_output_tokens\": 8192,\n",
        "}\n",
        "\n",
        "safety_settings = [\n",
        "  {\n",
        "    \"category\": \"HARM_CATEGORY_HARASSMENT\",\n",
        "    \"threshold\": \"BLOCK_MEDIUM_AND_ABOVE\"\n",
        "  },\n",
        "  {\n",
        "    \"category\": \"HARM_CATEGORY_HATE_SPEECH\",\n",
        "    \"threshold\": \"BLOCK_MEDIUM_AND_ABOVE\"\n",
        "  },\n",
        "  {\n",
        "    \"category\": \"HARM_CATEGORY_SEXUALLY_EXPLICIT\",\n",
        "    \"threshold\": \"BLOCK_MEDIUM_AND_ABOVE\"\n",
        "  },\n",
        "  {\n",
        "    \"category\": \"HARM_CATEGORY_DANGEROUS_CONTENT\",\n",
        "    \"threshold\": \"BLOCK_MEDIUM_AND_ABOVE\"\n",
        "  },\n",
        "]\n",
        "\n",
        "model = genai.GenerativeModel(model_name=\"gemini-1.5-pro-latest\",\n",
        "                              generation_config=generation_config,\n",
        "                              safety_settings=safety_settings)\n",
        "\n"
      ]
    },
    {
      "cell_type": "markdown",
      "source": [
        "# Busque inspiração para suas férias ideal ✈✈"
      ],
      "metadata": {
        "id": "_NUnLFLxJnzy"
      }
    },
    {
      "cell_type": "markdown",
      "source": [],
      "metadata": {
        "id": "lvJgoj4uJdRp"
      }
    },
    {
      "cell_type": "code",
      "source": [
        "# Você está procurando viagens Nacionais ou Internacionais?\n",
        "territorio = 'internacional' # @param [\"nacional\", \"internacional\"]\n",
        "\n",
        "# Qual clima você prefere? Calor ou Frio?\n",
        "clima = 'quente' # @param [\"quente\", \"frio\"]\n",
        "\n",
        "# Digite um breve resumo de algumas características ou atividades que gostaria que essa cidade tivesse.\n",
        "caracteristicas = \"praia, boa gastronomia, e passeios de barco\" # @param {type:\"raw\"}"
      ],
      "metadata": {
        "id": "em4AVKdZE__a"
      },
      "execution_count": 32,
      "outputs": []
    },
    {
      "cell_type": "code",
      "source": [
        "convo = model.start_chat(history=[\n",
        "  {\n",
        "    \"role\": \"user\",\n",
        "    \"parts\": [\"Você é um consultor de viagens experiente. Liste cidades situadas no território\" + territorio + \", que você sejam populares para tirar férias, que tenha um clima\" + clima + \", com as seguintes características \" + caracteristicas + \". Retorne uma breve descrição\"]\n",
        "  },\n",
        "])\n",
        "\n",
        "convo.send_message(\"YOUR_USER_INPUT\")\n",
        "print(convo.last.text)"
      ],
      "metadata": {
        "colab": {
          "base_uri": "https://localhost:8080/",
          "height": 505
        },
        "id": "J_RYVmAaEmsJ",
        "outputId": "f4b9deec-704f-4d35-b513-cce05d48ce5e"
      },
      "execution_count": 33,
      "outputs": [
        {
          "output_type": "stream",
          "name": "stdout",
          "text": [
            "## Destinos de Praia com Sol, Gastronomia e Passeios de Barco:\n",
            "\n",
            "**Caribe:**\n",
            "\n",
            "* **Aruba:** Praias de areia branca e águas azul-turquesa, culinária internacional com influência holandesa, passeios de catamarã e mergulho em naufrágios.\n",
            "* **Barbados:** Praias animadas e isoladas, frutos do mar frescos e rum local, cruzeiros de catamarã, exploração de cavernas e natação com tartarugas.\n",
            "* **Cancún, México:** Praias vibrantes, cozinha mexicana autêntica, passeios de barco para Isla Mujeres, ruínas maias próximas e mergulho em cenotes.\n",
            "\n",
            "**Mediterrâneo:**\n",
            "\n",
            "* **Barcelona, Espanha:** Praias urbanas com vida noturna, tapas deliciosas e frutos do mar, passeios de barco ao longo da costa, arquitetura de Gaudí e museus de arte.\n",
            "* **Nice, França:** Praias de seixos e águas azuis, cozinha francesa e mediterrânea, passeios de barco para Saint-Tropez e Mônaco, mercados coloridos e charmosas ruas antigas.\n",
            "* **Santorini, Grécia:** Praias vulcânicas e vistas deslumbrantes do pôr do sol, culinária grega tradicional, passeios de barco para ilhas vulcânicas próximas, vilas brancas e escavações arqueológicas.\n",
            "\n",
            "**Sudeste Asiático:**\n",
            "\n",
            "* **Phuket, Tailândia:** Praias paradisíacas e enseadas escondidas, culinária tailandesa picante e frutos do mar frescos, passeios de barco até as ilhas Phi Phi e baía de Phang Nga, templos budistas e mercados flutuantes.\n",
            "* **Bali, Indonésia:** Praias de areia preta e ondas para surf, culinária indonésia aromática, passeios de barco para Nusa Penida e Nusa Lembongan, templos antigos e campos de arroz. \n",
            "* **El Nido, Filipinas:** Praias imaculadas e lagoas secretas, culinária filipina com influência espanhola, passeios de barco pelas ilhas de Bacuit, mergulho de classe mundial e paisagens de tirar o fôlego. \n",
            "\n",
            "**Outros Destinos:**\n",
            "\n",
            "* **Miami, EUA:** Praias glamorosas e vida noturna vibrante, culinária latina e frutos do mar, passeios de barco para Key West e os Everglades, arquitetura Art Déco e compras de luxo.\n",
            "* **Dubai, Emirados Árabes Unidos:** Praias artificiais e resorts de luxo, culinária internacional e árabe, cruzeiros de dhow e passeios de iate, arranha-céus impressionantes e shoppings gigantes.\n",
            "\n",
            "Lembre-se de que a melhor época para visitar esses destinos depende da região e de suas preferências pessoais. \n",
            "\n"
          ]
        }
      ]
    },
    {
      "cell_type": "markdown",
      "source": [
        "# Escolha uma cidade para obter uma sugestão de roteiro"
      ],
      "metadata": {
        "id": "56NJSB6AOmjC"
      }
    },
    {
      "cell_type": "code",
      "source": [
        "# Escolha uma cidade para obter uma sugestão de roteiro\n",
        "cidade = \"Barcelona\" # @param {type:\"raw\"}"
      ],
      "metadata": {
        "id": "tCC7IknyOL2v"
      },
      "execution_count": 34,
      "outputs": []
    },
    {
      "cell_type": "code",
      "source": [
        "convo = model.start_chat(history=[\n",
        "  {\n",
        "    \"role\": \"user\",\n",
        "    \"parts\": [\"Monte um roteiro diário de 5 dias para a cidade de \" + cidade + \"sugerindo os principais pontos turísticos com uma breve descrição. Traga uma sugestão da melhor época do ano para visitar, e ao final traga uma estimativa de custo para da passagem aérea e hospedagem considerando 1 passageiro adulto.\"]\n",
        "  },\n",
        "])\n",
        "\n",
        "convo.send_message(\"YOUR_USER_INPUT\")\n",
        "print(convo.last.text)"
      ],
      "metadata": {
        "colab": {
          "base_uri": "https://localhost:8080/",
          "height": 852
        },
        "id": "2l13zkkyOpaY",
        "outputId": "49b117bb-5762-4ea8-9ce2-508bf4168c5a"
      },
      "execution_count": 35,
      "outputs": [
        {
          "output_type": "stream",
          "name": "stdout",
          "text": [
            "## Roteiro de 5 dias em Barcelona:\n",
            "\n",
            "**Melhor época para visitar:** Primavera (abril-maio) e outono (setembro-outubro) oferecem temperaturas agradáveis e menos multidões.\n",
            "\n",
            "**Dia 1:**\n",
            "\n",
            "*   **Manhã:** Explore as Ramblas, a icônica avenida repleta de artistas de rua, floristas e cafés. Visite o Mercado de la Boqueria, um paraíso gastronômico com produtos frescos e tapas.\n",
            "*   **Tarde:** Admire a arquitetura gótica do Bairro Gótico, incluindo a Catedral de Barcelona e a Plaça del Rei.\n",
            "*   **Noite:** Desfrute de um jantar de tapas no bairro El Born e caminhe pelo Passeig del Born, uma rua animada com bares e restaurantes.\n",
            "\n",
            "**Dia 2:**\n",
            "\n",
            "*   **Dia inteiro:** Dedique o dia às obras-primas de Gaudí. Visite a Sagrada Família, a Casa Batlló e o Parque Güell, maravilhando-se com sua arquitetura única e detalhes coloridos. Reserve seus ingressos com antecedência para evitar filas.\n",
            "\n",
            "**Dia 3:**\n",
            "\n",
            "*   **Manhã:** Explore Montjuïc, uma colina com vistas deslumbrantes da cidade. Visite o Museu Nacional de Arte da Catalunha e o Castelo de Montjuïc.\n",
            "*   **Tarde:** Relaxe na praia de Barceloneta, desfrute do sol e pratique esportes aquáticos.\n",
            "*   **Noite:** Assista a um show de flamenco no Tablao Cordobés ou em outro local autêntico.\n",
            "\n",
            "**Dia 4:**\n",
            "\n",
            "*   **Manhã:** Descubra o modernismo catalão no bairro Eixample, admire a Casa Milà (La Pedrera) e a Casa Amatller.\n",
            "*   **Tarde:** Faça compras no Passeig de Gràcia, uma avenida elegante com lojas de grife e boutiques locais.\n",
            "*   **Noite:** Experimente a culinária catalã em um restaurante tradicional no bairro Gràcia.\n",
            "\n",
            "**Dia 5:**\n",
            "\n",
            "*   **Manhã:** Visite o Camp Nou, o estádio do FC Barcelona, e explore o museu do clube (opcional para fãs de futebol).\n",
            "*   **Tarde:** Explore o bairro El Raval, um bairro multicultural com arte de rua, lojas vintage e cafés descolados.\n",
            "*   **Noite:** Desfrute de um último jantar de tapas e reviva as memórias da sua viagem.\n",
            "\n",
            "**Custos estimados (por pessoa):**\n",
            "\n",
            "*   **Passagem aérea:** O custo da passagem aérea varia muito dependendo da origem, época do ano e companhia aérea. Em média, espere pagar entre R\\$ 4.000 e R\\$ 8.000 para um voo de ida e volta do Brasil.\n",
            "*   **Hospedagem:** Barcelona oferece opções de acomodação para todos os orçamentos. Hostels e pensões podem custar a partir de R\\$ 100 por noite, enquanto hotéis de médio porte variam entre R\\$ 300 e R\\$ 600 por noite. Hotéis de luxo podem custar acima de R\\$ 1.000 por noite. \n",
            "\n",
            "**Dicas:**\n",
            "\n",
            "*   Compre um Barcelona Card para transporte público gratuito e descontos em atrações.\n",
            "*   Reserve ingressos para atrações populares com antecedência, especialmente na alta temporada.\n",
            "*   Experimente tapas em diferentes bares e restaurantes para descobrir a variedade da culinária local.\n",
            "*   Aprenda algumas frases básicas em espanhol ou catalão para melhorar sua experiência.\n",
            "*   Esteja ciente dos batedores de carteira, especialmente em áreas lotadas.\n",
            "\n",
            "**Aproveite sua viagem a Barcelona!**\n",
            "\n"
          ]
        }
      ]
    }
  ]
}